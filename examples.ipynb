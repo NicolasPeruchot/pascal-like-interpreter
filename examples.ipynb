{
 "cells": [
  {
   "cell_type": "code",
   "execution_count": 1,
   "metadata": {},
   "outputs": [],
   "source": [
    "from src.main import translation"
   ]
  },
  {
   "cell_type": "code",
   "execution_count": 2,
   "metadata": {},
   "outputs": [
    {
     "name": "stdout",
     "output_type": "stream",
     "text": [
      "3\n",
      "4\n"
     ]
    }
   ],
   "source": [
    "eval(translation('print(3) ; print(4)'))"
   ]
  },
  {
   "cell_type": "code",
   "execution_count": 3,
   "metadata": {},
   "outputs": [
    {
     "name": "stdout",
     "output_type": "stream",
     "text": [
      "7\n",
      "4\n"
     ]
    }
   ],
   "source": [
    "eval(translation('''\n",
    "a := 3 ; b := 4 ;\n",
    "if (a + b > 5) then {\n",
    "    print(a+b);\n",
    "    a := b\n",
    "}  ;\n",
    "print(a)\n",
    "'''))\n"
   ]
  },
  {
   "cell_type": "code",
   "execution_count": 5,
   "metadata": {},
   "outputs": [
    {
     "name": "stdout",
     "output_type": "stream",
     "text": [
      "3\n"
     ]
    },
    {
     "data": {
      "text/plain": [
       "9"
      ]
     },
     "execution_count": 5,
     "metadata": {},
     "output_type": "execute_result"
    }
   ],
   "source": [
    "eval(translation('function psquare(x) { print(x); return x*x }'))\n",
    "psquare(3)\n"
   ]
  },
  {
   "cell_type": "code",
   "execution_count": 7,
   "metadata": {},
   "outputs": [
    {
     "name": "stdout",
     "output_type": "stream",
     "text": [
      "52\n",
      "26.0\n",
      "13.0\n",
      "40.0\n",
      "20.0\n",
      "10.0\n",
      "5.0\n",
      "16.0\n",
      "8.0\n",
      "4.0\n",
      "2.0\n",
      "1.0\n",
      "1.0\n"
     ]
    }
   ],
   "source": [
    "eval(translation('''\n",
    "\n",
    "function syr(n)\n",
    "{\n",
    "    while (n != 1) {\n",
    "        if (n % 2 == 0)\n",
    "        then {\n",
    "            n := n / 2\n",
    "        }\n",
    "        else {\n",
    "            n := 3 * n + 1\n",
    "        };\n",
    "        print(n)\n",
    "    } ;\n",
    "    return n\n",
    "}\n",
    "\n",
    "'''))\n",
    "print(syr(17))"
   ]
  }
 ],
 "metadata": {
  "kernelspec": {
   "display_name": "Python 3.10.6 ('venv': venv)",
   "language": "python",
   "name": "python3"
  },
  "language_info": {
   "codemirror_mode": {
    "name": "ipython",
    "version": 3
   },
   "file_extension": ".py",
   "mimetype": "text/x-python",
   "name": "python",
   "nbconvert_exporter": "python",
   "pygments_lexer": "ipython3",
   "version": "3.10.6"
  },
  "vscode": {
   "interpreter": {
    "hash": "b61c41fd5917202dde62bf126dcc2d06fa5927e903c7db388f83344c2f814939"
   }
  }
 },
 "nbformat": 4,
 "nbformat_minor": 4
}
